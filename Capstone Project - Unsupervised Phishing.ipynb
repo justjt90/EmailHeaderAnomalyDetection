{
 "cells": [
  {
   "cell_type": "markdown",
   "metadata": {
    "id": "RkQzXPCXUxme"
   },
   "source": [
    "# **Setup**"
   ]
  },
  {
   "cell_type": "code",
   "execution_count": 18,
   "metadata": {},
   "outputs": [],
   "source": [
    "from sklearn.ensemble import RandomForestClassifier\n",
    "from sklearn.svm import SVC\n",
    "from sklearn.naive_bayes import GaussianNB\n",
    "from sklearn.naive_bayes import MultinomialNB\n",
    "from sklearn.naive_bayes import BernoulliNB\n",
    "from sklearn.ensemble import AdaBoostClassifier\n",
    "from sklearn.ensemble import StackingClassifier\n",
    "from sklearn.neighbors import KNeighborsClassifier\n",
    "from sklearn.tree import DecisionTreeClassifier\n",
    "from sklearn.linear_model import LogisticRegression\n",
    "from sklearn.neural_network import MLPClassifier\n",
    "from sklearn.naive_bayes import MultinomialNB\n",
    "from sklearn.linear_model import LogisticRegression\n",
    "from sklearn.ensemble import GradientBoostingClassifier\n",
    "from matplotlib import pyplot as plt\n",
    "from sklearn.svm import OneClassSVM\n",
    "\n",
    "from sklearn.metrics import accuracy_score\n",
    "from sklearn.metrics import roc_auc_score\n",
    "from sklearn.metrics import f1_score\n",
    "from sklearn.metrics import recall_score\n",
    "from sklearn.metrics import precision_score\n",
    "from sklearn.metrics import confusion_matrix\n",
    "from sklearn.model_selection import cross_val_score\n",
    "from sklearn import metrics\n",
    "\n",
    "from sklearn.metrics import plot_roc_curve\n",
    "from sklearn.decomposition import PCA\n",
    "from matplotlib.pyplot import figure\n",
    "from sklearn.model_selection import GridSearchCV\n",
    "from sklearn.pipeline import Pipeline\n",
    "from sklearn.model_selection import StratifiedShuffleSplit\n",
    "from sklearn.preprocessing import StandardScaler\n",
    "\n",
    "\n",
    "import pandas as pd\n",
    "import numpy as np"
   ]
  },
  {
   "cell_type": "code",
   "execution_count": 19,
   "metadata": {},
   "outputs": [],
   "source": [
    "df = pd.read_csv('preprocessed_spam_ham_phishing.csv')"
   ]
  },
  {
   "cell_type": "code",
   "execution_count": 20,
   "metadata": {},
   "outputs": [
    {
     "data": {
      "text/plain": [
       "Index(['hops', 'missing_subject', 'missing_to', 'missing_content-type',\n",
       "       'missing_mime-version', 'missing_x-mailer',\n",
       "       'missing_content-transfer-encoding', 'missing_x-mimeole',\n",
       "       'missing_x-priority', 'missing_list-id', 'missing_lines',\n",
       "       'missing_x-virus-scanned', 'missing_status', 'missing_content-length',\n",
       "       'missing_precedence', 'missing_delivered-to',\n",
       "       'missing_list-unsubscribe', 'missing_list-subscribe',\n",
       "       'missing_list-post', 'missing_list-help', 'missing_x-msmail-priority',\n",
       "       'missing_x-spam-status', 'missing_sender', 'missing_errors-to',\n",
       "       'missing_x-beenthere', 'missing_list-archive', 'missing_reply-to',\n",
       "       'missing_x-mailman-version', 'missing_x-miltered', 'missing_x-uuid',\n",
       "       'missing_x-virus-status', 'missing_x-spam-level',\n",
       "       'missing_x-spam-checker-version', 'missing_references',\n",
       "       'missing_in-reply-to', 'missing_user-agent', 'missing_thread-index',\n",
       "       'missing_cc', 'missing_received-spf', 'missing_x-original-to',\n",
       "       'missing_content-disposition', 'missing_mailing-list',\n",
       "       'missing_x-spam-check-by', 'missing_domainkey-signature',\n",
       "       'missing_importance', 'missing_x-mailing-list', 'content-encoding-val',\n",
       "       'received_str_forged', 'str_content-encoding_empty',\n",
       "       'str_from_question', 'str_from_chevron', 'str_to_chevron',\n",
       "       'str_to_empty', 'str_message-ID_dollar', 'str_return-path_bounce',\n",
       "       'str_content-type_texthtml', 'str_precedence_list', 'length_from',\n",
       "       'num_recipients_to', 'num_recipients_cc', 'number_replies', 'time_zone',\n",
       "       'x-priority', 'content-length', 'lines', 'day_of_week',\n",
       "       'date_comp_date_received', 'span_time', 'conseq_num_received_is_one',\n",
       "       'conseq_received_good', 'conseq_received_bad', 'conseq_received_date',\n",
       "       'email_match_from_reply-to', 'domain_val_message-id',\n",
       "       'domain_match_message-id_from', 'domain_match_from_return-path',\n",
       "       'domain_match_message-id_return-path', 'domain_match_message-id_sender',\n",
       "       'domain_match_message-id_reply-to', 'domain_match_return-path_reply-to',\n",
       "       'domain_match_reply-to_to', 'domain_match_to_in-reply-to',\n",
       "       'domain_match_errors-to_message-id', 'domain_match_errors-to_from',\n",
       "       'domain_match_errors-to_sender', 'domain_match_errors-to_reply-to',\n",
       "       'domain_match_sender_from', 'domain_match_references_reply-to',\n",
       "       'domain_match_references_in-reply-to', 'domain_match_references_to',\n",
       "       'domain_match_from_reply-to', 'domain_match_to_from',\n",
       "       'domain_match_to_message-id', 'domain_match_to_received', 'label'],\n",
       "      dtype='object')"
      ]
     },
     "execution_count": 20,
     "metadata": {},
     "output_type": "execute_result"
    }
   ],
   "source": [
    "df.columns"
   ]
  },
  {
   "cell_type": "code",
   "execution_count": 21,
   "metadata": {},
   "outputs": [],
   "source": [
    "new_small_feature_list = ['hops', 'missing_subject', 'missing_to', 'missing_content-type',\n",
    "   'missing_mime-version', 'missing_x-mailer', 'missing_references',\n",
    "   'missing_content-transfer-encoding', 'missing_x-mimeole',\n",
    "   'missing_x-priority', 'missing_list-id', 'missing_lines',\n",
    "   'missing_x-virus-scanned', 'missing_status', 'missing_content-length',\n",
    "   'missing_precedence', 'missing_delivered-to',\n",
    "   'missing_list-unsubscribe', 'missing_list-subscribe',\n",
    "   'missing_list-post', 'missing_list-help', 'missing_x-msmail-priority',\n",
    "   'missing_x-spam-status', 'missing_sender', 'missing_errors-to',\n",
    "   'missing_x-beenthere', 'missing_list-archive', 'missing_reply-to',\n",
    "   'missing_x-mailman-version', 'missing_x-miltered', 'missing_x-uuid',\n",
    "   'missing_x-virus-status', 'missing_x-spam-level',\n",
    "   'missing_x-spam-checker-version', 'missing_references',\n",
    "   'missing_in-reply-to', 'missing_user-agent', 'missing_thread-index',\n",
    "   'missing_cc', 'missing_received-spf', 'missing_x-original-to',\n",
    "   'missing_content-disposition', 'missing_mailing-list',\n",
    "   'missing_x-spam-check-by', 'missing_domainkey-signature',\n",
    "   'missing_importance', 'missing_x-mailing-list', 'content-encoding-val',\n",
    "   'received_str_forged', 'str_content-encoding_empty',\n",
    "   'str_from_question', 'str_from_chevron', 'str_to_chevron',\n",
    "   'str_to_empty', 'str_message-ID_dollar', 'str_return-path_bounce',\n",
    "   'str_content-type_texthtml', 'str_precedence_list', 'length_from',\n",
    "   'num_recipients_to', 'num_recipients_cc', 'number_replies', 'time_zone',\n",
    "   'x-priority', 'content-length', 'lines', 'day_of_week',\n",
    "   'date_comp_date_received', 'span_time', 'conseq_num_received_is_one',\n",
    "   'conseq_received_good', 'conseq_received_bad', 'conseq_received_date',\n",
    "   'email_match_from_reply-to', 'domain_val_message-id',\n",
    "   'domain_match_message-id_from', 'domain_match_from_return-path',\n",
    "   'domain_match_message-id_return-path', 'domain_match_message-id_sender',\n",
    "   'domain_match_message-id_reply-to', 'domain_match_return-path_reply-to',\n",
    "   'domain_match_reply-to_to', 'domain_match_to_in-reply-to',\n",
    "   'domain_match_errors-to_message-id', 'domain_match_errors-to_from',\n",
    "   'domain_match_errors-to_sender', 'domain_match_errors-to_reply-to',\n",
    "   'domain_match_sender_from', 'domain_match_references_reply-to',\n",
    "   'domain_match_references_in-reply-to', 'domain_match_references_to',\n",
    "   'domain_match_from_reply-to', 'domain_match_to_from',\n",
    "   'domain_match_to_message-id', 'domain_match_to_received', 'label']\n",
    "\n",
    "new_small_feature_list = ['missing_x-mailer', 'missing_reply-to', 'missing_in-reply-to',\n",
    "   'hops', 'content-encoding-val', 'missing_errors-to', 'missing_sender',\n",
    "   'received_str_forged', 'str_content-encoding_empty', 'missing_content-transfer-encoding',\n",
    "   'str_from_question', 'str_from_chevron', 'str_to_chevron',\n",
    "   'str_to_empty', 'str_message-ID_dollar', 'str_return-path_bounce',\n",
    "   'str_content-type_texthtml', 'str_precedence_list', 'length_from',\n",
    "   'num_recipients_to', 'num_recipients_cc', 'number_replies',\n",
    "   'x-priority',\n",
    "   'date_comp_date_received', 'span_time', 'conseq_num_received_is_one',\n",
    "   'conseq_received_good', 'conseq_received_bad', 'conseq_received_date',\n",
    "   'email_match_from_reply-to', 'domain_val_message-id',\n",
    "   'domain_match_message-id_from', 'domain_match_from_return-path',\n",
    "   'domain_match_message-id_return-path', 'domain_match_message-id_sender',\n",
    "   'domain_match_message-id_reply-to', 'domain_match_return-path_reply-to',\n",
    "   'domain_match_reply-to_to', 'domain_match_to_in-reply-to',\n",
    "   'domain_match_errors-to_message-id', 'domain_match_errors-to_from',\n",
    "   'domain_match_errors-to_sender', 'domain_match_errors-to_reply-to',\n",
    "   'domain_match_sender_from', 'domain_match_references_reply-to',\n",
    "   'domain_match_references_in-reply-to', 'domain_match_references_to',\n",
    "   'domain_match_from_reply-to', 'domain_match_to_from',\n",
    "   'domain_match_to_message-id', 'domain_match_to_received', 'label']\n",
    "\n",
    "df = df[new_small_feature_list]"
   ]
  },
  {
   "cell_type": "markdown",
   "metadata": {},
   "source": [
    "**Remove spam emails, only consider ham and phishing:**"
   ]
  },
  {
   "cell_type": "code",
   "execution_count": 22,
   "metadata": {},
   "outputs": [
    {
     "name": "stdout",
     "output_type": "stream",
     "text": [
      "(26508, 52)\n"
     ]
    }
   ],
   "source": [
    "df = df[df['label'] != 1]\n",
    "print(df.shape)"
   ]
  },
  {
   "cell_type": "markdown",
   "metadata": {},
   "source": [
    "# **Testing:**"
   ]
  },
  {
   "cell_type": "markdown",
   "metadata": {
    "id": "yVbGder-B6wu"
   },
   "source": [
    "**Novelty detection (One Class SVM):**"
   ]
  },
  {
   "cell_type": "markdown",
   "metadata": {},
   "source": [
    "**Creating a training set composed of only ham emails (10,000 for the training set, rest for testing):**"
   ]
  },
  {
   "cell_type": "code",
   "execution_count": 23,
   "metadata": {},
   "outputs": [
    {
     "name": "stdout",
     "output_type": "stream",
     "text": [
      "(25220, 52)\n",
      "(1288, 52)\n"
     ]
    }
   ],
   "source": [
    "df_ham = df[df['label'] == 0]\n",
    "df_phish = df[df['label'] == 2]\n",
    "print(df_ham.shape)\n",
    "print(df_phish.shape)"
   ]
  },
  {
   "cell_type": "code",
   "execution_count": 24,
   "metadata": {},
   "outputs": [
    {
     "name": "stdout",
     "output_type": "stream",
     "text": [
      "(1288,)\n",
      "(20000, 51)\n",
      "(1288, 51)\n"
     ]
    }
   ],
   "source": [
    "df_ham_train = df_ham.iloc[0:20000]\n",
    "df_ham_test = df_ham.iloc[20000:21288]\n",
    "\n",
    "df_ham_test_Y = df_ham_test['label']\n",
    "df_ham_train_Y = df_ham_train['label']\n",
    "\n",
    "df_ham_train_X = df_ham_train.drop('label', axis=1)\n",
    "df_ham_test_X = df_ham_test.drop('label', axis=1)\n",
    "\n",
    "feature_list = df_ham_train_X.columns\n",
    "\n",
    "print(df_ham_test_Y.shape)\n",
    "print(df_ham_train_X.shape)\n",
    "print(df_ham_test_X.shape)"
   ]
  },
  {
   "cell_type": "code",
   "execution_count": 25,
   "metadata": {},
   "outputs": [
    {
     "name": "stdout",
     "output_type": "stream",
     "text": [
      "(1288,)\n",
      "(1288, 51)\n"
     ]
    }
   ],
   "source": [
    "df_phish_test = df_phish.iloc[0:5220]\n",
    "\n",
    "df_phish_test_Y = df_phish_test['label']\n",
    "df_phish_test_X = df_phish_test.drop('label', axis=1)\n",
    "\n",
    "print(df_phish_test_Y.shape)\n",
    "print(df_phish_test_X.shape)"
   ]
  },
  {
   "cell_type": "markdown",
   "metadata": {},
   "source": [
    "Training just uses ham. Testing uses 1288 ham and 1288 phishing emails. Combing the ham and phishing emails to make the test set:"
   ]
  },
  {
   "cell_type": "code",
   "execution_count": 26,
   "metadata": {},
   "outputs": [],
   "source": [
    "df_test_X = pd.concat([df_phish_test_X, df_ham_test_X], ignore_index=True)\n",
    "df_test_Y = pd.concat([df_phish_test_Y, df_ham_test_Y], ignore_index=True)"
   ]
  },
  {
   "cell_type": "code",
   "execution_count": 27,
   "metadata": {},
   "outputs": [],
   "source": [
    "from sklearn.preprocessing import StandardScaler\n",
    "\n",
    "scaler = StandardScaler()\n",
    "\n",
    "scaler.fit(df_test_X)\n",
    "df_test_X = scaler.transform(df_test_X)\n",
    "df_test_X = pd.DataFrame(df_test_X, columns=feature_list)\n",
    "\n",
    "scaler = StandardScaler()\n",
    "\n",
    "scaler.fit(df_ham_train_X)\n",
    "df_ham_train_X = scaler.transform(df_ham_train_X)\n",
    "df_ham_train_X = pd.DataFrame(df_ham_train_X, columns=feature_list)"
   ]
  },
  {
   "cell_type": "code",
   "execution_count": 28,
   "metadata": {},
   "outputs": [],
   "source": [
    "pca = PCA(n_components=20)\n",
    "\n",
    "#train_X = pca.fit_transform(df_ham_train_X)\n",
    "#test_X = pca.fit_transform(df_test_X)"
   ]
  },
  {
   "cell_type": "code",
   "execution_count": 29,
   "metadata": {},
   "outputs": [],
   "source": [
    "test_X = df_test_X\n",
    "train_X = df_ham_train_X"
   ]
  },
  {
   "cell_type": "markdown",
   "metadata": {
    "id": "kaMayHzYRQXh"
   },
   "source": [
    "One class SVM predicts 1 for normal class and -1 for anomaly class, so need to match the labels to those:"
   ]
  },
  {
   "cell_type": "code",
   "execution_count": 30,
   "metadata": {
    "id": "97WSezYRPuwr"
   },
   "outputs": [],
   "source": [
    "df_test_Y = pd.DataFrame(df_test_Y, columns=['label'])\n",
    "\n",
    "df_test_Y.loc[df_test_Y['label'] == 2, 'label'] = -1\n",
    "df_test_Y.loc[df_test_Y['label'] == 0, 'label'] = 1\n",
    "\n",
    "\n",
    "df_train_Y = pd.DataFrame(df_ham_train_Y, columns=['label'])\n",
    "\n",
    "df_train_Y.loc[df_train_Y['label'] == 2, 'label'] = -1\n",
    "df_train_Y.loc[df_train_Y['label'] == 0, 'label'] = 1"
   ]
  },
  {
   "cell_type": "code",
   "execution_count": 31,
   "metadata": {
    "id": "bBCLEVcZQa0u"
   },
   "outputs": [
    {
     "data": {
      "text/plain": [
       "label\n",
       " 1       1288\n",
       "-1       1288\n",
       "dtype: int64"
      ]
     },
     "execution_count": 31,
     "metadata": {},
     "output_type": "execute_result"
    }
   ],
   "source": [
    "df_test_Y.value_counts()"
   ]
  },
  {
   "cell_type": "code",
   "execution_count": null,
   "metadata": {},
   "outputs": [],
   "source": [
    "from sklearn.inspection import permutation_importance\n",
    "from matplotlib import pyplot as plt\n",
    "\n",
    "model = OneClassSVM(gamma=0.01, nu=0.34, kernel='poly', degree=6, tol=0.001, coef0=0, shrinking=True)\n",
    "model.fit(train_X, df_train_Y)\n",
    "\n",
    "results = permutation_importance(model, train_X, df_train_Y, \n",
    "                                 scoring='accuracy', n_repeats=2, n_jobs=-1)\n",
    "importance = results.importances_mean\n",
    "\n",
    "fig = plt.figure(figsize =(25, 7))\n",
    "\n",
    "importances_sorted = sorted(zip(importance, feature_list), reverse=True)\n",
    "feature_sorted, importance_sorted = zip(*importances_sorted)\n",
    "\n",
    "perm_svm_feature_importances = importance_sorted\n",
    "\n",
    "print(\"Top features sorted:\")\n",
    "for x, imp in zip(feature_sorted, importance_sorted):\n",
    "  print('Feature: %s, Score: %f' % (imp, x))\n",
    "\n",
    "plt.xticks(rotation='vertical')\n",
    "plt.bar([x for x in importance_sorted], feature_sorted, width=0.3)\n",
    "plt.show()"
   ]
  },
  {
   "cell_type": "code",
   "execution_count": null,
   "metadata": {},
   "outputs": [],
   "source": [
    "counter = 0\n",
    "for x, imp in zip(feature_sorted, importance_sorted):\n",
    "  counter += 1\n",
    "  print('\\'' + imp + '\\',')\n",
    "  if counter == 100:\n",
    "    break"
   ]
  },
  {
   "cell_type": "markdown",
   "metadata": {},
   "source": [
    "# **Testing**:"
   ]
  },
  {
   "cell_type": "code",
   "execution_count": null,
   "metadata": {
    "scrolled": true
   },
   "outputs": [
    {
     "name": "stdout",
     "output_type": "stream",
     "text": [
      "\n",
      "nu:  0.01 gamma: 0.1 degree: 6 tol: 0.01 coef0: 0 shrinking: True\n",
      "Accuracy:  83.88975155279503 %\n",
      "AUC:  0.8388975155279503\n",
      "F1:  0.8355598071522501\n",
      "Recall:  0.8388975155279503\n",
      "Precision:  0.8688437958215653\n",
      "Confusion Matrix:\n",
      " 1264 24 391 897\n",
      "\n",
      "nu:  0.01 gamma: 0.1 degree: 4 tol: 0.01 coef0: 0 shrinking: True\n",
      "Accuracy:  85.79192546583852 %\n",
      "AUC:  0.8579192546583851\n",
      "F1:  0.855939242474527\n",
      "Recall:  0.8579192546583851\n",
      "Precision:  0.8787413729317362\n",
      "Confusion Matrix:\n",
      " 1256 32 334 954\n",
      "\n",
      "nu:  0.01 gamma: 0.1 degree: 4 tol: 0.01 coef0: 0.01 shrinking: True\n",
      "Accuracy:  85.83074534161491 %\n",
      "AUC:  0.858307453416149\n",
      "F1:  0.8563460870030213\n",
      "Recall:  0.858307453416149\n",
      "Precision:  0.8790063780690831\n",
      "Confusion Matrix:\n",
      " 1256 32 333 955\n"
     ]
    }
   ],
   "source": [
    "nu_list = [0.01, 0.1, 0.25, 0.5]\n",
    "gamma_list = [0.1]\n",
    "degree_list = [6, 4]\n",
    "tol_list = [0.01, 0.001]\n",
    "coef0_list = [0, 0.01]\n",
    "shrinking_list = [True]\n",
    "\n",
    "\n",
    "best_acc = 0\n",
    "best_set = []\n",
    "\n",
    "for v1 in nu_list:\n",
    "    for v2 in gamma_list:\n",
    "        for v4 in tol_list:\n",
    "            for v5 in coef0_list:\n",
    "                for v6 in shrinking_list:\n",
    "                    for v3 in degree_list:\n",
    "                        clf = OneClassSVM(gamma=v2, nu=v1, kernel='poly', degree=v3, tol=v4, coef0=v5, shrinking=v6).fit(train_X)\n",
    "\n",
    "                        predictions = clf.predict(test_X)\n",
    "\n",
    "                        acc = accuracy_score(df_test_Y, predictions)*100\n",
    "\n",
    "                        if acc > best_acc:\n",
    "                            best_acc = acc\n",
    "                            best_set = [v1, v2, v3, v4, v5, v6]\n",
    "                            print('\\nnu: ', v1, 'gamma:', v2, 'degree:', v3, 'tol:', v4, 'coef0:', v5, 'shrinking:', v6)\n",
    "                            print(\"Accuracy: \", acc, \"%\")\n",
    "                            print(\"AUC: \", roc_auc_score(df_test_Y, predictions))\n",
    "                            print(\"F1: \", f1_score(df_test_Y, predictions, average='macro'))\n",
    "                            print(\"Recall: \", recall_score(df_test_Y, predictions, average='macro'))\n",
    "                            print(\"Precision: \", precision_score(df_test_Y, predictions, average='macro'))\n",
    "                            tn, fp, fn, tp = confusion_matrix(df_test_Y, predictions).ravel()\n",
    "                            print(\"Confusion Matrix:\\n\", tn, fp, fn, tp)"
   ]
  },
  {
   "cell_type": "code",
   "execution_count": 37,
   "metadata": {},
   "outputs": [
    {
     "name": "stdout",
     "output_type": "stream",
     "text": [
      "Accuracy:  85.83074534161491 %\n",
      "F1:  0.8563460870030213\n",
      "Recall:  0.858307453416149\n",
      "Precision:  0.8790063780690831\n",
      "Confusion Matrix:\n",
      " 1256 32 333 955\n"
     ]
    }
   ],
   "source": [
    "clf = OneClassSVM(gamma=0.1, nu=0.01, kernel='poly', degree=4, tol=0.01, coef0=0.01, shrinking=True).fit(train_X)\n",
    "\n",
    "predictions = clf.predict(test_X)\n",
    "\n",
    "acc = accuracy_score(df_test_Y, predictions)*100\n",
    "print(\"Accuracy: \", acc, \"%\")\n",
    "#print(\"AUC: \", roc_auc_score(df_test_Y, predictions))\n",
    "print(\"F1: \", f1_score(df_test_Y, predictions, average='macro'))\n",
    "print(\"Recall: \", recall_score(df_test_Y, predictions, average='macro'))\n",
    "print(\"Precision: \", precision_score(df_test_Y, predictions, average='macro'))\n",
    "tn, fp, fn, tp = confusion_matrix(df_test_Y, predictions).ravel()\n",
    "print(\"Confusion Matrix:\\n\", tn, fp, fn, tp)"
   ]
  },
  {
   "cell_type": "code",
   "execution_count": 15,
   "metadata": {
    "id": "_HFJLFV1Xppp"
   },
   "outputs": [
    {
     "name": "stdout",
     "output_type": "stream",
     "text": [
      "Accuracy:  14.221419185282521 %\n",
      "AUC:  0.14221419185282524\n",
      "F1:  0.1418661859037348\n",
      "Recall:  0.14221419185282524\n",
      "Precision:  0.14163286575833522\n",
      "Confusion Matrix:\n",
      " [[ 1858 13362]\n",
      " [12749  2471]]\n"
     ]
    }
   ],
   "source": [
    "clf = OneClassSVM(gamma='auto', nu=0.7, kernel='rbf').fit(train_X)\n",
    "\n",
    "predictions = clf.predict(test_X)\n",
    "\n",
    "print(\"Accuracy: \", accuracy_score(df_test_Y, predictions)*100, \"%\")\n",
    "print(\"AUC: \", roc_auc_score(df_test_Y, predictions))\n",
    "print(\"F1: \", f1_score(df_test_Y, predictions, average='macro'))\n",
    "print(\"Recall: \", recall_score(df_test_Y, predictions, average='macro'))\n",
    "print(\"Precision: \", precision_score(df_test_Y, predictions, average='macro'))\n",
    "print(\"Confusion Matrix:\\n\", confusion_matrix(df_test_Y, predictions))"
   ]
  },
  {
   "cell_type": "code",
   "execution_count": 31,
   "metadata": {
    "id": "nGHlKbhEXqSJ"
   },
   "outputs": [
    {
     "name": "stdout",
     "output_type": "stream",
     "text": [
      "Accuracy:  37.877792378449406 %\n",
      "AUC:  0.37877792378449404\n",
      "F1:  0.3090172824258485\n",
      "Recall:  0.37877792378449404\n",
      "Precision:  0.29666376482525636\n",
      "Confusion Matrix:\n",
      " [[  929 14291]\n",
      " [ 4619 10601]]\n"
     ]
    }
   ],
   "source": [
    "clf = OneClassSVM(gamma='auto', nu=0.8, kernel='sigmoid').fit(train_X)\n",
    "\n",
    "predictions = clf.predict(test_X)\n",
    "\n",
    "print(\"Accuracy: \", accuracy_score(df_test_Y, predictions)*100, \"%\")\n",
    "print(\"AUC: \", roc_auc_score(df_test_Y, predictions))\n",
    "print(\"F1: \", f1_score(df_test_Y, predictions, average='macro'))\n",
    "print(\"Recall: \", recall_score(df_test_Y, predictions, average='macro'))\n",
    "print(\"Precision: \", precision_score(df_test_Y, predictions, average='macro'))\n",
    "print(\"Confusion Matrix:\\n\", confusion_matrix(df_test_Y, predictions))"
   ]
  }
 ],
 "metadata": {
  "colab": {
   "collapsed_sections": [
    "sCMEqns8jY-1",
    "F5A997Ekjh0E",
    "KvWjb8GwOM-y",
    "rJJ4WHSBFTWc",
    "nqHSyA4SyJ7K",
    "xhkNe2ql-cFP",
    "fMwsPWxpi2cG",
    "-_nEjwFOjUDI",
    "MyekmTK3q5TC",
    "RkQzXPCXUxme",
    "P1zXPP6trxSN",
    "iGZ561te2ONO",
    "rffvHbuzGO8c"
   ],
   "name": "Capstone Project - Email Headers.ipynb",
   "provenance": []
  },
  "kernelspec": {
   "display_name": "Python 3",
   "language": "python",
   "name": "python3"
  },
  "language_info": {
   "codemirror_mode": {
    "name": "ipython",
    "version": 3
   },
   "file_extension": ".py",
   "mimetype": "text/x-python",
   "name": "python",
   "nbconvert_exporter": "python",
   "pygments_lexer": "ipython3",
   "version": "3.8.5"
  }
 },
 "nbformat": 4,
 "nbformat_minor": 1
}
