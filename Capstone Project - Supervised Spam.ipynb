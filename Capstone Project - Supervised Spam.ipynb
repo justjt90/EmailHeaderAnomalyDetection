{
 "cells": [
  {
   "cell_type": "markdown",
   "metadata": {
    "id": "RkQzXPCXUxme"
   },
   "source": [
    "# **Setup**"
   ]
  },
  {
   "cell_type": "code",
   "execution_count": 2,
   "metadata": {},
   "outputs": [],
   "source": [
    "from sklearn.ensemble import RandomForestClassifier\n",
    "from sklearn.svm import SVC\n",
    "from sklearn.naive_bayes import GaussianNB\n",
    "from sklearn.naive_bayes import MultinomialNB\n",
    "from sklearn.naive_bayes import BernoulliNB\n",
    "from sklearn.ensemble import AdaBoostClassifier\n",
    "from sklearn.ensemble import StackingClassifier\n",
    "from sklearn.neighbors import KNeighborsClassifier\n",
    "from sklearn.tree import DecisionTreeClassifier\n",
    "from sklearn.linear_model import LogisticRegression\n",
    "from sklearn.neural_network import MLPClassifier\n",
    "from sklearn.naive_bayes import MultinomialNB\n",
    "from sklearn.linear_model import LogisticRegression\n",
    "from sklearn.ensemble import GradientBoostingClassifier\n",
    "from matplotlib import pyplot as plt\n",
    "\n",
    "from sklearn.metrics import accuracy_score\n",
    "from sklearn.metrics import roc_auc_score\n",
    "from sklearn.metrics import f1_score\n",
    "from sklearn.metrics import recall_score\n",
    "from sklearn.metrics import precision_score\n",
    "from sklearn.metrics import confusion_matrix\n",
    "from sklearn.model_selection import cross_val_score\n",
    "from sklearn import metrics\n",
    "\n",
    "from sklearn.metrics import plot_roc_curve\n",
    "from sklearn.decomposition import PCA\n",
    "from matplotlib.pyplot import figure\n",
    "from sklearn.model_selection import GridSearchCV\n",
    "from sklearn.pipeline import Pipeline\n",
    "from sklearn.model_selection import StratifiedShuffleSplit\n",
    "from sklearn.preprocessing import StandardScaler\n",
    "\n",
    "import pandas as pd\n",
    "import numpy as np"
   ]
  },
  {
   "cell_type": "code",
   "execution_count": 3,
   "metadata": {},
   "outputs": [],
   "source": [
    "df = pd.read_csv('preprocessed_spam_ham_phishing.csv')"
   ]
  },
  {
   "cell_type": "markdown",
   "metadata": {},
   "source": [
    "**Remove phishing emails, only consider ham and spam:**"
   ]
  },
  {
   "cell_type": "code",
   "execution_count": 4,
   "metadata": {},
   "outputs": [
    {
     "name": "stdout",
     "output_type": "stream",
     "text": [
      "(75419, 95)\n"
     ]
    }
   ],
   "source": [
    "df = df[df['label'] != 2]\n",
    "print(df.shape)"
   ]
  },
  {
   "cell_type": "code",
   "execution_count": 5,
   "metadata": {},
   "outputs": [],
   "source": [
    "df_Y = df['label']\n",
    "df_X = df.drop('label', axis=1)"
   ]
  },
  {
   "cell_type": "code",
   "execution_count": 6,
   "metadata": {},
   "outputs": [],
   "source": [
    "feature_list = df_X.columns"
   ]
  },
  {
   "cell_type": "markdown",
   "metadata": {
    "id": "rffvHbuzGO8c"
   },
   "source": [
    "# **Testing:**"
   ]
  },
  {
   "cell_type": "markdown",
   "metadata": {
    "id": "TA9ns0c3ovCG"
   },
   "source": [
    "**Supervised anomaly detection (classification problem, using PCA):**"
   ]
  },
  {
   "cell_type": "code",
   "execution_count": null,
   "metadata": {
    "id": "fk0rbKYdP5QA",
    "scrolled": false
   },
   "outputs": [
    {
     "name": "stdout",
     "output_type": "stream",
     "text": [
      "\n",
      "---------------------------------------------------\n",
      "Current classifier:  LogisticRegression \n",
      "\n",
      "[CV] START .....................................................................\n"
     ]
    },
    {
     "name": "stderr",
     "output_type": "stream",
     "text": [
      "[Parallel(n_jobs=1)]: Using backend SequentialBackend with 1 concurrent workers.\n"
     ]
    },
    {
     "name": "stdout",
     "output_type": "stream",
     "text": [
      "[CV] END  accuracy: (train=0.959, test=0.943) f1: (train=0.969, test=0.958) precision: (train=0.964, test=0.953) recall: (train=0.974, test=0.962) roc_auc: (train=0.993, test=0.988) total time=   1.8s\n",
      "[CV] START .....................................................................\n"
     ]
    },
    {
     "name": "stderr",
     "output_type": "stream",
     "text": [
      "[Parallel(n_jobs=1)]: Done   1 out of   1 | elapsed:    2.1s remaining:    0.0s\n"
     ]
    },
    {
     "name": "stdout",
     "output_type": "stream",
     "text": [
      "[CV] END  accuracy: (train=0.958, test=0.951) f1: (train=0.968, test=0.963) precision: (train=0.963, test=0.947) recall: (train=0.974, test=0.981) roc_auc: (train=0.994, test=0.988) total time=   1.7s\n",
      "[CV] START .....................................................................\n"
     ]
    },
    {
     "name": "stderr",
     "output_type": "stream",
     "text": [
      "[Parallel(n_jobs=1)]: Done   2 out of   2 | elapsed:    4.2s remaining:    0.0s\n"
     ]
    },
    {
     "name": "stdout",
     "output_type": "stream",
     "text": [
      "[CV] END  accuracy: (train=0.958, test=0.958) f1: (train=0.969, test=0.969) precision: (train=0.964, test=0.963) recall: (train=0.974, test=0.975) roc_auc: (train=0.993, test=0.992) total time=   1.8s\n",
      "[CV] START .....................................................................\n"
     ]
    },
    {
     "name": "stderr",
     "output_type": "stream",
     "text": [
      "[Parallel(n_jobs=1)]: Done   3 out of   3 | elapsed:    6.3s remaining:    0.0s\n"
     ]
    },
    {
     "name": "stdout",
     "output_type": "stream",
     "text": [
      "[CV] END  accuracy: (train=0.958, test=0.956) f1: (train=0.968, test=0.967) precision: (train=0.963, test=0.968) recall: (train=0.974, test=0.966) roc_auc: (train=0.993, test=0.992) total time=   1.7s\n",
      "[CV] START .....................................................................\n"
     ]
    },
    {
     "name": "stderr",
     "output_type": "stream",
     "text": [
      "[Parallel(n_jobs=1)]: Done   4 out of   4 | elapsed:    8.5s remaining:    0.0s\n"
     ]
    },
    {
     "name": "stdout",
     "output_type": "stream",
     "text": [
      "[CV] END  accuracy: (train=0.959, test=0.944) f1: (train=0.969, test=0.957) precision: (train=0.964, test=0.960) recall: (train=0.974, test=0.955) roc_auc: (train=0.993, test=0.990) total time=   1.8s\n",
      "[CV] START .....................................................................\n"
     ]
    },
    {
     "name": "stderr",
     "output_type": "stream",
     "text": [
      "[Parallel(n_jobs=1)]: Done   5 out of   5 | elapsed:   10.7s remaining:    0.0s\n"
     ]
    },
    {
     "name": "stdout",
     "output_type": "stream",
     "text": [
      "[CV] END  accuracy: (train=0.958, test=0.954) f1: (train=0.968, test=0.965) precision: (train=0.963, test=0.969) recall: (train=0.973, test=0.961) roc_auc: (train=0.993, test=0.993) total time=   1.7s\n",
      "[CV] START .....................................................................\n"
     ]
    },
    {
     "name": "stderr",
     "output_type": "stream",
     "text": [
      "[Parallel(n_jobs=1)]: Done   6 out of   6 | elapsed:   12.8s remaining:    0.0s\n"
     ]
    },
    {
     "name": "stdout",
     "output_type": "stream",
     "text": [
      "[CV] END  accuracy: (train=0.958, test=0.953) f1: (train=0.968, test=0.965) precision: (train=0.963, test=0.966) recall: (train=0.973, test=0.964) roc_auc: (train=0.993, test=0.994) total time=   1.8s\n",
      "[CV] START .....................................................................\n"
     ]
    },
    {
     "name": "stderr",
     "output_type": "stream",
     "text": [
      "[Parallel(n_jobs=1)]: Done   7 out of   7 | elapsed:   15.0s remaining:    0.0s\n"
     ]
    },
    {
     "name": "stdout",
     "output_type": "stream",
     "text": [
      "[CV] END  accuracy: (train=0.957, test=0.963) f1: (train=0.968, test=0.972) precision: (train=0.963, test=0.963) recall: (train=0.972, test=0.982) roc_auc: (train=0.993, test=0.996) total time=   1.9s\n",
      "[CV] START .....................................................................\n"
     ]
    },
    {
     "name": "stderr",
     "output_type": "stream",
     "text": [
      "[Parallel(n_jobs=1)]: Done   8 out of   8 | elapsed:   17.3s remaining:    0.0s\n"
     ]
    }
   ],
   "source": [
    "%%time\n",
    "\n",
    "from sklearn.model_selection import StratifiedKFold\n",
    "from sklearn.model_selection import cross_validate\n",
    "from sklearn.metrics import accuracy_score\n",
    "from sklearn.metrics import f1_score\n",
    "from sklearn.metrics import recall_score\n",
    "from sklearn.metrics import precision_score\n",
    "from sklearn.metrics import roc_auc_score\n",
    "\n",
    "lw = 2\n",
    "graph = None\n",
    "classifiers = [LogisticRegression(solver='lbfgs', fit_intercept=False, tol=0.0001, penalty='l2', C=1, max_iter=500), \n",
    "               SVC(C=10, kernel='rbf', tol=0.01), \n",
    "               GradientBoostingClassifier(learning_rate=0.4, n_estimators=200, max_features='log2'),\n",
    "               MLPClassifier(hidden_layer_sizes=(40,40), activation='relu', learning_rate='constant', alpha=0.001, solver='adam'), \n",
    "               GaussianNB(), \n",
    "               BernoulliNB(), \n",
    "               RandomForestClassifier(n_estimators=150, criterion='gini', min_samples_split=3, min_samples_leaf=1, max_features='log2'), \n",
    "               DecisionTreeClassifier(criterion='entropy', min_samples_split=2, min_samples_leaf=1, ccp_alpha=0,), \n",
    "               KNeighborsClassifier(algorithm='kd_tree', weights='uniform', p=1, n_neighbors=1, leaf_size=15),\n",
    "               AdaBoostClassifier(n_estimators=200, learning_rate=0.95, algorithm='SAMME.R')]\n",
    "\n",
    "\n",
    "for c in classifiers:\n",
    "    \n",
    "    pipe = Pipeline([(\"scale\", StandardScaler()),\n",
    "                    (\"reduce_dims\", PCA(n_components=40)),\n",
    "                    (c.__class__.__name__, c)\n",
    "                    ])\n",
    "\n",
    "    print(\"\\n---------------------------------------------------\")\n",
    "    print(\"Current classifier: \", c.__class__.__name__, \"\\n\")\n",
    "\n",
    "    scoring = ['accuracy', 'f1', 'recall', 'precision', 'roc_auc']\n",
    "    cv = StratifiedKFold(n_splits=10, shuffle=True)\n",
    "    scores = cross_validate(pipe, df_X, df_Y, scoring=scoring, cv=cv, return_train_score=True, verbose=10)\n",
    "    \n",
    "    for key, val in scores.items():\n",
    "        print(key, \"Average:\", \"{:.4f}\".format(np.average(val)), \"+-\", \"{:.4f}\".format(np.std(val)))"
   ]
  },
  {
   "cell_type": "markdown",
   "metadata": {
    "id": "1YBgzEfzRSqa"
   },
   "source": [
    "**Supervised Stacked Classifier:**"
   ]
  },
  {
   "cell_type": "code",
   "execution_count": null,
   "metadata": {
    "id": "R2ikJyxFRU_U"
   },
   "outputs": [],
   "source": [
    "base_learners = [('mlp', MLPClassifier(hidden_layer_sizes=(40,40), activation='relu', learning_rate='constant', alpha=0.001, solver='adam')), \n",
    "                 ('knn', RandomForestClassifier(n_estimators=150, criterion='gini', min_samples_split=3, min_samples_leaf=1, max_features='log2'))]\n",
    "meta_classifier = LogisticRegression()\n",
    "\n",
    "stacked_classifier = StackingClassifier(estimators=base_learners, \n",
    "                                        final_estimator=meta_classifier)\n",
    "\n",
    "pipe = Pipeline([(\"scale\", StandardScaler()),\n",
    "                (\"reduce_dims\", PCA(n_components=40)),\n",
    "                ('stacked', stacked_classifier)\n",
    "                ])\n",
    "\n",
    "scoring = ['accuracy', 'f1', 'recall', 'precision', 'roc_auc']\n",
    "cv = StratifiedKFold(n_splits=10)\n",
    "scores = cross_validate(pipe, df_X, df_Y, scoring=scoring, cv=cv, return_train_score=True, verbose=10, n_jobs=-1)\n",
    "\n",
    "for key, val in scores.items():\n",
    "    print(key, \"Average:\", \"{:.4f}\".format(np.average(val)), \"+-\", \"{:.4f}\".format(np.std(val)))"
   ]
  }
 ],
 "metadata": {
  "colab": {
   "collapsed_sections": [
    "sCMEqns8jY-1",
    "F5A997Ekjh0E",
    "KvWjb8GwOM-y",
    "rJJ4WHSBFTWc",
    "nqHSyA4SyJ7K",
    "xhkNe2ql-cFP",
    "fMwsPWxpi2cG",
    "-_nEjwFOjUDI",
    "MyekmTK3q5TC",
    "RkQzXPCXUxme",
    "P1zXPP6trxSN",
    "iGZ561te2ONO",
    "rffvHbuzGO8c"
   ],
   "name": "Capstone Project - Email Headers.ipynb",
   "provenance": []
  },
  "kernelspec": {
   "display_name": "Python 3",
   "language": "python",
   "name": "python3"
  },
  "language_info": {
   "codemirror_mode": {
    "name": "ipython",
    "version": 3
   },
   "file_extension": ".py",
   "mimetype": "text/x-python",
   "name": "python",
   "nbconvert_exporter": "python",
   "pygments_lexer": "ipython3",
   "version": "3.8.5"
  }
 },
 "nbformat": 4,
 "nbformat_minor": 1
}
