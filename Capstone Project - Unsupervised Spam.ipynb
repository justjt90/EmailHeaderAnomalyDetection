{
 "cells": [
  {
   "cell_type": "markdown",
   "metadata": {
    "id": "RkQzXPCXUxme"
   },
   "source": [
    "# **Setup**"
   ]
  },
  {
   "cell_type": "code",
   "execution_count": 2,
   "metadata": {},
   "outputs": [],
   "source": [
    "from sklearn.ensemble import RandomForestClassifier\n",
    "from sklearn.svm import SVC\n",
    "from sklearn.naive_bayes import GaussianNB\n",
    "from sklearn.naive_bayes import MultinomialNB\n",
    "from sklearn.naive_bayes import BernoulliNB\n",
    "from sklearn.ensemble import AdaBoostClassifier\n",
    "from sklearn.ensemble import StackingClassifier\n",
    "from sklearn.neighbors import KNeighborsClassifier\n",
    "from sklearn.tree import DecisionTreeClassifier\n",
    "from sklearn.linear_model import LogisticRegression\n",
    "from sklearn.neural_network import MLPClassifier\n",
    "from sklearn.naive_bayes import MultinomialNB\n",
    "from sklearn.linear_model import LogisticRegression\n",
    "from sklearn.ensemble import GradientBoostingClassifier\n",
    "from matplotlib import pyplot as plt\n",
    "from sklearn.svm import OneClassSVM\n",
    "\n",
    "from sklearn.metrics import accuracy_score\n",
    "from sklearn.metrics import roc_auc_score\n",
    "from sklearn.metrics import f1_score\n",
    "from sklearn.metrics import recall_score\n",
    "from sklearn.metrics import precision_score\n",
    "from sklearn.metrics import confusion_matrix\n",
    "from sklearn.model_selection import cross_val_score\n",
    "from sklearn import metrics\n",
    "\n",
    "from sklearn.metrics import plot_roc_curve\n",
    "from sklearn.decomposition import PCA\n",
    "from matplotlib.pyplot import figure\n",
    "from sklearn.model_selection import GridSearchCV\n",
    "from sklearn.pipeline import Pipeline\n",
    "from sklearn.model_selection import StratifiedShuffleSplit\n",
    "from sklearn.preprocessing import StandardScaler\n",
    "\n",
    "\n",
    "import pandas as pd\n",
    "import numpy as np"
   ]
  },
  {
   "cell_type": "code",
   "execution_count": 3,
   "metadata": {},
   "outputs": [],
   "source": [
    "df = pd.read_csv('preprocessed_spam_ham_phishing.csv')"
   ]
  },
  {
   "cell_type": "code",
   "execution_count": 4,
   "metadata": {},
   "outputs": [
    {
     "data": {
      "text/plain": [
       "Index(['hops', 'missing_subject', 'missing_to', 'missing_content-type',\n",
       "       'missing_mime-version', 'missing_x-mailer',\n",
       "       'missing_content-transfer-encoding', 'missing_x-mimeole',\n",
       "       'missing_x-priority', 'missing_list-id', 'missing_lines',\n",
       "       'missing_x-virus-scanned', 'missing_status', 'missing_content-length',\n",
       "       'missing_precedence', 'missing_delivered-to',\n",
       "       'missing_list-unsubscribe', 'missing_list-subscribe',\n",
       "       'missing_list-post', 'missing_list-help', 'missing_x-msmail-priority',\n",
       "       'missing_x-spam-status', 'missing_sender', 'missing_errors-to',\n",
       "       'missing_x-beenthere', 'missing_list-archive', 'missing_reply-to',\n",
       "       'missing_x-mailman-version', 'missing_x-miltered', 'missing_x-uuid',\n",
       "       'missing_x-virus-status', 'missing_x-spam-level',\n",
       "       'missing_x-spam-checker-version', 'missing_references',\n",
       "       'missing_in-reply-to', 'missing_user-agent', 'missing_thread-index',\n",
       "       'missing_cc', 'missing_received-spf', 'missing_x-original-to',\n",
       "       'missing_content-disposition', 'missing_mailing-list',\n",
       "       'missing_x-spam-check-by', 'missing_domainkey-signature',\n",
       "       'missing_importance', 'missing_x-mailing-list', 'content-encoding-val',\n",
       "       'received_str_forged', 'str_content-encoding_empty',\n",
       "       'str_from_question', 'str_from_chevron', 'str_to_chevron',\n",
       "       'str_to_empty', 'str_message-ID_dollar', 'str_return-path_bounce',\n",
       "       'str_content-type_texthtml', 'str_precedence_list', 'length_from',\n",
       "       'num_recipients_to', 'num_recipients_cc', 'number_replies', 'time_zone',\n",
       "       'x-priority', 'content-length', 'lines', 'day_of_week',\n",
       "       'date_comp_date_received', 'span_time', 'conseq_num_received_is_one',\n",
       "       'conseq_received_good', 'conseq_received_bad', 'conseq_received_date',\n",
       "       'email_match_from_reply-to', 'domain_val_message-id',\n",
       "       'domain_match_message-id_from', 'domain_match_from_return-path',\n",
       "       'domain_match_message-id_return-path', 'domain_match_message-id_sender',\n",
       "       'domain_match_message-id_reply-to', 'domain_match_return-path_reply-to',\n",
       "       'domain_match_reply-to_to', 'domain_match_to_in-reply-to',\n",
       "       'domain_match_errors-to_message-id', 'domain_match_errors-to_from',\n",
       "       'domain_match_errors-to_sender', 'domain_match_errors-to_reply-to',\n",
       "       'domain_match_sender_from', 'domain_match_references_reply-to',\n",
       "       'domain_match_references_in-reply-to', 'domain_match_references_to',\n",
       "       'domain_match_from_reply-to', 'domain_match_to_from',\n",
       "       'domain_match_to_message-id', 'domain_match_to_received', 'label'],\n",
       "      dtype='object')"
      ]
     },
     "execution_count": 4,
     "metadata": {},
     "output_type": "execute_result"
    }
   ],
   "source": [
    "df.columns"
   ]
  },
  {
   "cell_type": "code",
   "execution_count": 5,
   "metadata": {},
   "outputs": [],
   "source": [
    "# This list is based on the top features from a permutation feature importance test with SVM, kernel type = poly, degree 6.\n",
    "\n",
    "new_small_feature_list = ['missing_x-beenthere',\n",
    "'domain_match_errors-to_sender',\n",
    "'missing_list-archive',\n",
    "'missing_x-mailman-version',\n",
    "'str_precedence_list',\n",
    "'missing_errors-to',\n",
    "'missing_sender',\n",
    "'missing_x-spam-checker-version',\n",
    "'str_return-path_bounce',\n",
    "'missing_references',\n",
    "'domain_match_from_return-path',\n",
    "'missing_delivered-to',\n",
    "'missing_in-reply-to',\n",
    "'missing_list-id',\n",
    "'missing_x-spam-status',\n",
    "'missing_list-post',\n",
    "'missing_list-help',\n",
    "'missing_list-subscribe',\n",
    "'domain_match_to_received',\n",
    "'number_replies',\n",
    "'missing_precedence',\n",
    "'domain_match_message-id_return-path',\n",
    "'missing_list-unsubscribe',\n",
    "'missing_mailing-list',\n",
    "'missing_x-spam-check-by',\n",
    "'missing_received-spf',\n",
    "'domain_match_errors-to_from',\n",
    "'missing_x-original-to',\n",
    "'hops',\n",
    "'domain_match_return-path_reply-to',\n",
    "'domain_match_references_in-reply-to',\n",
    "'domain_match_errors-to_reply-to',\n",
    "'domain_match_sender_from',\n",
    "'conseq_received_date',\n",
    "'domain_match_errors-to_message-id',\n",
    "'missing_reply-to',\n",
    "'conseq_num_received_is_one',\n",
    "'domain_match_reply-to_to',\n",
    "'missing_cc',\n",
    "'missing_x-virus-scanned',\n",
    "'domain_match_from_reply-to',\n",
    "'domain_match_message-id_sender',\n",
    "'conseq_received_good',\n",
    "'missing_mime-version',\n",
    "'domain_match_to_from',\n",
    "'missing_lines',\n",
    "'missing_status',\n",
    "'missing_content-length',\n",
    "'content-encoding-val',\n",
    "'domain_match_message-id_reply-to',\n",
    "'num_recipients_cc',\n",
    "'str_content-encoding_empty',\n",
    "'missing_content-transfer-encoding',\n",
    "'domain_match_to_message-id',\n",
    "'str_from_chevron',\n",
    "'str_to_chevron',\n",
    "'missing_x-mailing-list',\n",
    "'domain_match_references_to',\n",
    "'domain_match_to_in-reply-to',\n",
    "'length_from',\n",
    "'conseq_received_bad',\n",
    "'domain_match_message-id_from',\n",
    "'lines',\n",
    "'content-length',\n",
    "'missing_content-disposition',\n",
    "'missing_user-agent',\n",
    "'missing_x-mimeole',\n",
    "'time_zone',\n",
    "'missing_x-priority',\n",
    "'x-priority',\n",
    "'span_time',\n",
    "'missing_content-type',\n",
    "'missing_domainkey-signature',\n",
    "'missing_x-mailer',\n",
    "'missing_x-msmail-priority',\n",
    "'missing_thread-index',\n",
    "'email_match_from_reply-to',\n",
    "'str_message-ID_dollar',\n",
    "'str_content-type_texthtml',\n",
    "'num_recipients_to',\n",
    "'missing_x-spam-level',\n",
    "'domain_match_references_reply-to',\n",
    "'domain_val_message-id',\n",
    "'missing_importance',\n",
    "'date_comp_date_received',\n",
    "'missing_x-virus-status',\n",
    "'str_from_question',\n",
    "'str_to_empty',\n",
    "'missing_to', 'label']\n",
    "\n",
    "df = df[new_small_feature_list]"
   ]
  },
  {
   "cell_type": "markdown",
   "metadata": {},
   "source": [
    "**Remove phishing emails, only consider ham and spam:**"
   ]
  },
  {
   "cell_type": "code",
   "execution_count": 6,
   "metadata": {},
   "outputs": [
    {
     "name": "stdout",
     "output_type": "stream",
     "text": [
      "(75419, 90)\n"
     ]
    }
   ],
   "source": [
    "df = df[df['label'] != 2]\n",
    "print(df.shape)"
   ]
  },
  {
   "cell_type": "markdown",
   "metadata": {},
   "source": [
    "# **Testing:**"
   ]
  },
  {
   "cell_type": "markdown",
   "metadata": {
    "id": "yVbGder-B6wu"
   },
   "source": [
    "**Novelty detection (One Class SVM):**"
   ]
  },
  {
   "cell_type": "markdown",
   "metadata": {},
   "source": [
    "**Creating a training set composed of only ham emails (10,000 for the training set, rest for testing):**"
   ]
  },
  {
   "cell_type": "code",
   "execution_count": 7,
   "metadata": {},
   "outputs": [
    {
     "name": "stdout",
     "output_type": "stream",
     "text": [
      "(25220, 90)\n",
      "(50199, 90)\n"
     ]
    }
   ],
   "source": [
    "df_ham = df[df['label'] == 0]\n",
    "df_spam = df[df['label'] == 1]\n",
    "print(df_ham.shape)\n",
    "print(df_spam.shape)"
   ]
  },
  {
   "cell_type": "code",
   "execution_count": 8,
   "metadata": {},
   "outputs": [
    {
     "name": "stdout",
     "output_type": "stream",
     "text": [
      "(5220,)\n",
      "(20000, 89)\n",
      "(5220, 89)\n"
     ]
    }
   ],
   "source": [
    "df_ham_train = df_ham.iloc[0:20000]\n",
    "df_ham_test = df_ham.iloc[20000:]\n",
    "\n",
    "df_ham_test_Y = df_ham_test['label']\n",
    "df_ham_train_Y = df_ham_train['label']\n",
    "\n",
    "df_ham_train_X = df_ham_train.drop('label', axis=1)\n",
    "df_ham_test_X = df_ham_test.drop('label', axis=1)\n",
    "\n",
    "feature_list = df_ham_train_X.columns\n",
    "\n",
    "print(df_ham_test_Y.shape)\n",
    "print(df_ham_train_X.shape)\n",
    "print(df_ham_test_X.shape)"
   ]
  },
  {
   "cell_type": "code",
   "execution_count": 9,
   "metadata": {},
   "outputs": [
    {
     "name": "stdout",
     "output_type": "stream",
     "text": [
      "(5220,)\n",
      "(5220, 89)\n"
     ]
    }
   ],
   "source": [
    "df_spam_test = df_spam.iloc[0:5220]\n",
    "\n",
    "df_spam_test_Y = df_spam_test['label']\n",
    "df_spam_test_X = df_spam_test.drop('label', axis=1)\n",
    "\n",
    "print(df_spam_test_Y.shape)\n",
    "print(df_spam_test_X.shape)"
   ]
  },
  {
   "cell_type": "markdown",
   "metadata": {},
   "source": [
    "Training just uses ham. Testing uses 5220 ham and 5220 spam emails. Combing the ham and spam emails to make the test set:"
   ]
  },
  {
   "cell_type": "code",
   "execution_count": 10,
   "metadata": {},
   "outputs": [],
   "source": [
    "df_test_X = pd.concat([df_spam_test_X, df_ham_test_X], ignore_index=True)\n",
    "df_test_Y = pd.concat([df_spam_test_Y, df_ham_test_Y], ignore_index=True)"
   ]
  },
  {
   "cell_type": "code",
   "execution_count": 11,
   "metadata": {},
   "outputs": [],
   "source": [
    "from sklearn.preprocessing import StandardScaler\n",
    "\n",
    "scaler = StandardScaler()\n",
    "\n",
    "scaler.fit(df_test_X)\n",
    "df_test_X = scaler.transform(df_test_X)\n",
    "df_test_X = pd.DataFrame(df_test_X, columns=feature_list)\n",
    "\n",
    "scaler = StandardScaler()\n",
    "\n",
    "scaler.fit(df_ham_train_X)\n",
    "df_ham_train_X = scaler.transform(df_ham_train_X)\n",
    "df_ham_train_X = pd.DataFrame(df_ham_train_X, columns=feature_list)"
   ]
  },
  {
   "cell_type": "code",
   "execution_count": 12,
   "metadata": {},
   "outputs": [],
   "source": [
    "pca = PCA(n_components=10)\n",
    "\n",
    "#train_X = pca.fit_transform(df_ham_train_X)\n",
    "#test_X = pca.fit_transform(df_test_X)"
   ]
  },
  {
   "cell_type": "code",
   "execution_count": 13,
   "metadata": {},
   "outputs": [],
   "source": [
    "test_X = df_test_X\n",
    "train_X = df_ham_train_X"
   ]
  },
  {
   "cell_type": "markdown",
   "metadata": {
    "id": "kaMayHzYRQXh"
   },
   "source": [
    "One class SVM predicts 1 for normal class and -1 for anomaly class, so need to match the labels to those:"
   ]
  },
  {
   "cell_type": "code",
   "execution_count": 14,
   "metadata": {
    "id": "97WSezYRPuwr"
   },
   "outputs": [],
   "source": [
    "df_test_Y = pd.DataFrame(df_test_Y, columns=['label'])\n",
    "\n",
    "df_test_Y.loc[df_test_Y['label'] == 1, 'label'] = -1\n",
    "df_test_Y.loc[df_test_Y['label'] == 0, 'label'] = 1\n",
    "\n",
    "\n",
    "df_train_Y = pd.DataFrame(df_ham_train_Y, columns=['label'])\n",
    "\n",
    "df_train_Y.loc[df_train_Y['label'] == 1, 'label'] = -1\n",
    "df_train_Y.loc[df_train_Y['label'] == 0, 'label'] = 1"
   ]
  },
  {
   "cell_type": "code",
   "execution_count": 15,
   "metadata": {
    "id": "bBCLEVcZQa0u"
   },
   "outputs": [
    {
     "data": {
      "text/plain": [
       "label\n",
       " 1       5220\n",
       "-1       5220\n",
       "dtype: int64"
      ]
     },
     "execution_count": 15,
     "metadata": {},
     "output_type": "execute_result"
    }
   ],
   "source": [
    "df_test_Y.value_counts()"
   ]
  },
  {
   "cell_type": "code",
   "execution_count": 15,
   "metadata": {},
   "outputs": [
    {
     "name": "stdout",
     "output_type": "stream",
     "text": [
      "Top features sorted:\n",
      "Feature: missing_x-beenthere, Score: 0.229475\n",
      "Feature: domain_match_errors-to_sender, Score: 0.229475\n",
      "Feature: missing_list-archive, Score: 0.228825\n",
      "Feature: missing_x-mailman-version, Score: 0.225350\n",
      "Feature: str_precedence_list, Score: 0.221950\n",
      "Feature: missing_errors-to, Score: 0.221400\n",
      "Feature: missing_sender, Score: 0.207725\n",
      "Feature: missing_x-spam-checker-version, Score: 0.199225\n",
      "Feature: str_return-path_bounce, Score: 0.188125\n",
      "Feature: missing_references, Score: 0.173600\n",
      "Feature: domain_match_from_return-path, Score: 0.170925\n",
      "Feature: missing_delivered-to, Score: 0.170800\n",
      "Feature: missing_in-reply-to, Score: 0.170450\n",
      "Feature: missing_list-id, Score: 0.169075\n",
      "Feature: missing_x-spam-status, Score: 0.168500\n",
      "Feature: missing_list-post, Score: 0.168350\n",
      "Feature: missing_list-help, Score: 0.168350\n",
      "Feature: missing_list-subscribe, Score: 0.167025\n",
      "Feature: domain_match_to_received, Score: 0.158100\n",
      "Feature: number_replies, Score: 0.156250\n",
      "Feature: missing_precedence, Score: 0.153325\n",
      "Feature: domain_match_message-id_return-path, Score: 0.148775\n",
      "Feature: missing_list-unsubscribe, Score: 0.148675\n",
      "Feature: missing_mailing-list, Score: 0.144625\n",
      "Feature: missing_x-spam-check-by, Score: 0.144550\n",
      "Feature: missing_received-spf, Score: 0.144550\n",
      "Feature: domain_match_errors-to_from, Score: 0.142000\n",
      "Feature: missing_x-original-to, Score: 0.140400\n",
      "Feature: hops, Score: 0.140250\n",
      "Feature: domain_match_return-path_reply-to, Score: 0.137750\n",
      "Feature: domain_match_references_in-reply-to, Score: 0.137125\n",
      "Feature: domain_match_errors-to_reply-to, Score: 0.136000\n",
      "Feature: domain_match_sender_from, Score: 0.135075\n",
      "Feature: conseq_received_date, Score: 0.131075\n",
      "Feature: domain_match_errors-to_message-id, Score: 0.130500\n",
      "Feature: missing_reply-to, Score: 0.129000\n",
      "Feature: conseq_num_received_is_one, Score: 0.128675\n",
      "Feature: domain_match_reply-to_to, Score: 0.127100\n",
      "Feature: missing_cc, Score: 0.126500\n",
      "Feature: missing_x-virus-scanned, Score: 0.121825\n",
      "Feature: domain_match_from_reply-to, Score: 0.121775\n",
      "Feature: domain_match_message-id_sender, Score: 0.119550\n",
      "Feature: conseq_received_good, Score: 0.119475\n",
      "Feature: missing_mime-version, Score: 0.118475\n",
      "Feature: domain_match_to_from, Score: 0.117825\n",
      "Feature: missing_lines, Score: 0.112025\n",
      "Feature: missing_status, Score: 0.111350\n",
      "Feature: missing_content-length, Score: 0.111350\n",
      "Feature: content-encoding-val, Score: 0.106075\n",
      "Feature: domain_match_message-id_reply-to, Score: 0.104700\n",
      "Feature: num_recipients_cc, Score: 0.103800\n",
      "Feature: str_content-encoding_empty, Score: 0.102550\n",
      "Feature: missing_content-transfer-encoding, Score: 0.102550\n",
      "Feature: domain_match_to_message-id, Score: 0.101975\n",
      "Feature: str_from_chevron, Score: 0.097325\n",
      "Feature: str_to_chevron, Score: 0.089050\n",
      "Feature: missing_x-mailing-list, Score: 0.087225\n",
      "Feature: domain_match_references_to, Score: 0.086625\n",
      "Feature: domain_match_to_in-reply-to, Score: 0.081400\n",
      "Feature: length_from, Score: 0.076550\n",
      "Feature: conseq_received_bad, Score: 0.076075\n",
      "Feature: domain_match_message-id_from, Score: 0.070400\n",
      "Feature: lines, Score: 0.069025\n",
      "Feature: content-length, Score: 0.064700\n",
      "Feature: missing_content-disposition, Score: 0.061000\n",
      "Feature: missing_user-agent, Score: 0.060075\n",
      "Feature: missing_x-mimeole, Score: 0.052600\n",
      "Feature: time_zone, Score: 0.049675\n",
      "Feature: missing_x-priority, Score: 0.046200\n",
      "Feature: x-priority, Score: 0.045150\n",
      "Feature: span_time, Score: 0.040900\n",
      "Feature: missing_content-type, Score: 0.039900\n",
      "Feature: missing_domainkey-signature, Score: 0.036725\n",
      "Feature: missing_x-mailer, Score: 0.034750\n",
      "Feature: missing_x-msmail-priority, Score: 0.034225\n",
      "Feature: missing_thread-index, Score: 0.033700\n",
      "Feature: email_match_from_reply-to, Score: 0.031825\n",
      "Feature: str_message-ID_dollar, Score: 0.029400\n",
      "Feature: str_content-type_texthtml, Score: 0.024350\n",
      "Feature: num_recipients_to, Score: 0.021000\n",
      "Feature: missing_x-spam-level, Score: 0.019875\n",
      "Feature: domain_match_references_reply-to, Score: 0.015775\n",
      "Feature: domain_val_message-id, Score: 0.015575\n",
      "Feature: missing_importance, Score: 0.012825\n",
      "Feature: date_comp_date_received, Score: 0.007950\n",
      "Feature: missing_x-virus-status, Score: 0.002500\n",
      "Feature: str_from_question, Score: 0.001475\n",
      "Feature: str_to_empty, Score: 0.000750\n",
      "Feature: missing_to, Score: 0.000750\n",
      "Feature: received_str_forged, Score: 0.000475\n",
      "Feature: missing_x-miltered, Score: 0.000150\n",
      "Feature: missing_x-uuid, Score: 0.000050\n",
      "Feature: missing_subject, Score: 0.000050\n",
      "Feature: day_of_week, Score: -0.005925\n"
     ]
    },
    {
     "data": {
      "image/png": "[encoded data removed]",
      "text/plain": [
       "<Figure size 1800x504 with 1 Axes>"
      ]
     },
     "metadata": {
      "needs_background": "light"
     },
     "output_type": "display_data"
    }
   ],
   "source": [
    "from sklearn.inspection import permutation_importance\n",
    "from matplotlib import pyplot as plt\n",
    "\n",
    "model = OneClassSVM(gamma=0.01, nu=0.34, kernel='poly', degree=6, tol=0.001, coef0=0, shrinking=True)\n",
    "model.fit(train_X, df_train_Y)\n",
    "\n",
    "results = permutation_importance(model, train_X, df_train_Y, \n",
    "                                 scoring='accuracy', n_repeats=2, n_jobs=-1)\n",
    "importance = results.importances_mean\n",
    "\n",
    "fig = plt.figure(figsize =(25, 7))\n",
    "\n",
    "importances_sorted = sorted(zip(importance, feature_list), reverse=True)\n",
    "feature_sorted, importance_sorted = zip(*importances_sorted)\n",
    "\n",
    "perm_svm_feature_importances = importance_sorted\n",
    "\n",
    "print(\"Top features sorted:\")\n",
    "for x, imp in zip(feature_sorted, importance_sorted):\n",
    "  print('Feature: %s, Score: %f' % (imp, x))\n",
    "\n",
    "plt.xticks(rotation='vertical')\n",
    "plt.bar([x for x in importance_sorted], feature_sorted, width=0.3)\n",
    "plt.show()"
   ]
  },
  {
   "cell_type": "code",
   "execution_count": 16,
   "metadata": {},
   "outputs": [
    {
     "name": "stdout",
     "output_type": "stream",
     "text": [
      "'missing_x-beenthere',\n",
      "'domain_match_errors-to_sender',\n",
      "'missing_list-archive',\n",
      "'missing_x-mailman-version',\n",
      "'str_precedence_list',\n",
      "'missing_errors-to',\n",
      "'missing_sender',\n",
      "'missing_x-spam-checker-version',\n",
      "'str_return-path_bounce',\n",
      "'missing_references',\n",
      "'domain_match_from_return-path',\n",
      "'missing_delivered-to',\n",
      "'missing_in-reply-to',\n",
      "'missing_list-id',\n",
      "'missing_x-spam-status',\n",
      "'missing_list-post',\n",
      "'missing_list-help',\n",
      "'missing_list-subscribe',\n",
      "'domain_match_to_received',\n",
      "'number_replies',\n",
      "'missing_precedence',\n",
      "'domain_match_message-id_return-path',\n",
      "'missing_list-unsubscribe',\n",
      "'missing_mailing-list',\n",
      "'missing_x-spam-check-by',\n",
      "'missing_received-spf',\n",
      "'domain_match_errors-to_from',\n",
      "'missing_x-original-to',\n",
      "'hops',\n",
      "'domain_match_return-path_reply-to',\n",
      "'domain_match_references_in-reply-to',\n",
      "'domain_match_errors-to_reply-to',\n",
      "'domain_match_sender_from',\n",
      "'conseq_received_date',\n",
      "'domain_match_errors-to_message-id',\n",
      "'missing_reply-to',\n",
      "'conseq_num_received_is_one',\n",
      "'domain_match_reply-to_to',\n",
      "'missing_cc',\n",
      "'missing_x-virus-scanned',\n",
      "'domain_match_from_reply-to',\n",
      "'domain_match_message-id_sender',\n",
      "'conseq_received_good',\n",
      "'missing_mime-version',\n",
      "'domain_match_to_from',\n",
      "'missing_lines',\n",
      "'missing_status',\n",
      "'missing_content-length',\n",
      "'content-encoding-val',\n",
      "'domain_match_message-id_reply-to',\n",
      "'num_recipients_cc',\n",
      "'str_content-encoding_empty',\n",
      "'missing_content-transfer-encoding',\n",
      "'domain_match_to_message-id',\n",
      "'str_from_chevron',\n",
      "'str_to_chevron',\n",
      "'missing_x-mailing-list',\n",
      "'domain_match_references_to',\n",
      "'domain_match_to_in-reply-to',\n",
      "'length_from',\n",
      "'conseq_received_bad',\n",
      "'domain_match_message-id_from',\n",
      "'lines',\n",
      "'content-length',\n",
      "'missing_content-disposition',\n",
      "'missing_user-agent',\n",
      "'missing_x-mimeole',\n",
      "'time_zone',\n",
      "'missing_x-priority',\n",
      "'x-priority',\n",
      "'span_time',\n",
      "'missing_content-type',\n",
      "'missing_domainkey-signature',\n",
      "'missing_x-mailer',\n",
      "'missing_x-msmail-priority',\n",
      "'missing_thread-index',\n",
      "'email_match_from_reply-to',\n",
      "'str_message-ID_dollar',\n",
      "'str_content-type_texthtml',\n",
      "'num_recipients_to',\n",
      "'missing_x-spam-level',\n",
      "'domain_match_references_reply-to',\n",
      "'domain_val_message-id',\n",
      "'missing_importance',\n",
      "'date_comp_date_received',\n",
      "'missing_x-virus-status',\n",
      "'str_from_question',\n",
      "'str_to_empty',\n",
      "'missing_to',\n",
      "'received_str_forged',\n",
      "'missing_x-miltered',\n",
      "'missing_x-uuid',\n",
      "'missing_subject',\n",
      "'day_of_week',\n"
     ]
    }
   ],
   "source": [
    "counter = 0\n",
    "for x, imp in zip(feature_sorted, importance_sorted):\n",
    "  counter += 1\n",
    "  print('\\'' + imp + '\\',')\n",
    "  if counter == 100:\n",
    "    break"
   ]
  },
  {
   "cell_type": "markdown",
   "metadata": {},
   "source": [
    "# **Testing**:"
   ]
  },
  {
   "cell_type": "code",
   "execution_count": 16,
   "metadata": {
    "scrolled": true
   },
   "outputs": [
    {
     "name": "stdout",
     "output_type": "stream",
     "text": [
      "\n",
      "nu:  0.1 gamma: 0.1 degree: 6 tol: 0.01 coef0: 0 shrinking: True\n",
      "Accuracy:  89.75095785440614 %\n",
      "AUC:  0.8975095785440612\n",
      "F1:  0.8964902841637659\n",
      "Recall:  0.8975095785440612\n",
      "Precision:  0.9138092440817045\n",
      "Confusion Matrix:\n",
      " 5203 17 1053 4167\n"
     ]
    }
   ],
   "source": [
    "nu_list = [0.1, 0.15, 0.05]\n",
    "gamma_list = [0.1]\n",
    "degree_list = [6]\n",
    "tol_list = [0.01, 0.05, 0.005]\n",
    "coef0_list = [0]\n",
    "shrinking_list = [True]\n",
    "\n",
    "\n",
    "best_acc = 0\n",
    "best_set = []\n",
    "\n",
    "for v1 in nu_list:\n",
    "    for v2 in gamma_list:\n",
    "        for v4 in tol_list:\n",
    "            for v5 in coef0_list:\n",
    "                for v6 in shrinking_list:\n",
    "                    for v3 in degree_list:\n",
    "                        clf = OneClassSVM(gamma=v2, nu=v1, kernel='poly', degree=v3, tol=v4, coef0=v5, shrinking=v6).fit(train_X)\n",
    "\n",
    "                        predictions = clf.predict(test_X)\n",
    "\n",
    "                        acc = accuracy_score(df_test_Y, predictions)*100\n",
    "\n",
    "                        if acc > best_acc:\n",
    "                            best_acc = acc\n",
    "                            best_set = [v1, v2, v3, v4, v5, v6]\n",
    "                            print('\\nnu: ', v1, 'gamma:', v2, 'degree:', v3, 'tol:', v4, 'coef0:', v5, 'shrinking:', v6)\n",
    "                            print(\"Accuracy: \", acc, \"%\")\n",
    "                            print(\"AUC: \", roc_auc_score(df_test_Y, predictions))\n",
    "                            print(\"F1: \", f1_score(df_test_Y, predictions, average='macro'))\n",
    "                            print(\"Recall: \", recall_score(df_test_Y, predictions, average='macro'))\n",
    "                            print(\"Precision: \", precision_score(df_test_Y, predictions, average='macro'))\n",
    "                            tn, fp, fn, tp = confusion_matrix(df_test_Y, predictions).ravel()\n",
    "                            print(\"Confusion Matrix:\\n\", tn, fp, fn, tp)"
   ]
  },
  {
   "cell_type": "code",
   "execution_count": 44,
   "metadata": {},
   "outputs": [
    {
     "name": "stdout",
     "output_type": "stream",
     "text": [
      "Accuracy:  89.80842911877394 %\n",
      "AUC:  0.8980842911877392\n",
      "F1:  0.8970825338382158\n",
      "Recall:  0.8980842911877394\n",
      "Precision:  0.9142113603818616\n",
      "Confusion Matrix:\n",
      " 5203 17 1047 4173\n"
     ]
    }
   ],
   "source": [
    "clf = OneClassSVM(gamma='auto', nu=0.1, kernel='poly', degree=6, tol=0.01, coef0=0.03, shrinking=True).fit(train_X)\n",
    "\n",
    "predictions = clf.predict(test_X)\n",
    "\n",
    "acc = accuracy_score(df_test_Y, predictions)*100\n",
    "print(\"Accuracy: \", acc, \"%\")\n",
    "print(\"AUC: \", roc_auc_score(df_test_Y, predictions))\n",
    "print(\"F1: \", f1_score(df_test_Y, predictions, average='macro'))\n",
    "print(\"Recall: \", recall_score(df_test_Y, predictions, average='macro'))\n",
    "print(\"Precision: \", precision_score(df_test_Y, predictions, average='macro'))\n",
    "tn, fp, fn, tp = confusion_matrix(df_test_Y, predictions).ravel()\n",
    "print(\"Confusion Matrix:\\n\", tn, fp, fn, tp)"
   ]
  },
  {
   "cell_type": "code",
   "execution_count": 15,
   "metadata": {
    "id": "_HFJLFV1Xppp"
   },
   "outputs": [
    {
     "name": "stdout",
     "output_type": "stream",
     "text": [
      "Accuracy:  14.221419185282521 %\n",
      "AUC:  0.14221419185282524\n",
      "F1:  0.1418661859037348\n",
      "Recall:  0.14221419185282524\n",
      "Precision:  0.14163286575833522\n",
      "Confusion Matrix:\n",
      " [[ 1858 13362]\n",
      " [12749  2471]]\n"
     ]
    }
   ],
   "source": [
    "clf = OneClassSVM(gamma='auto', nu=0.7, kernel='rbf').fit(train_X)\n",
    "\n",
    "predictions = clf.predict(test_X)\n",
    "\n",
    "print(\"Accuracy: \", accuracy_score(df_test_Y, predictions)*100, \"%\")\n",
    "print(\"AUC: \", roc_auc_score(df_test_Y, predictions))\n",
    "print(\"F1: \", f1_score(df_test_Y, predictions, average='macro'))\n",
    "print(\"Recall: \", recall_score(df_test_Y, predictions, average='macro'))\n",
    "print(\"Precision: \", precision_score(df_test_Y, predictions, average='macro'))\n",
    "print(\"Confusion Matrix:\\n\", confusion_matrix(df_test_Y, predictions))"
   ]
  },
  {
   "cell_type": "code",
   "execution_count": 31,
   "metadata": {
    "id": "nGHlKbhEXqSJ"
   },
   "outputs": [
    {
     "name": "stdout",
     "output_type": "stream",
     "text": [
      "Accuracy:  37.877792378449406 %\n",
      "AUC:  0.37877792378449404\n",
      "F1:  0.3090172824258485\n",
      "Recall:  0.37877792378449404\n",
      "Precision:  0.29666376482525636\n",
      "Confusion Matrix:\n",
      " [[  929 14291]\n",
      " [ 4619 10601]]\n"
     ]
    }
   ],
   "source": [
    "clf = OneClassSVM(gamma='auto', nu=0.8, kernel='sigmoid').fit(train_X)\n",
    "\n",
    "predictions = clf.predict(test_X)\n",
    "\n",
    "print(\"Accuracy: \", accuracy_score(df_test_Y, predictions)*100, \"%\")\n",
    "print(\"AUC: \", roc_auc_score(df_test_Y, predictions))\n",
    "print(\"F1: \", f1_score(df_test_Y, predictions, average='macro'))\n",
    "print(\"Recall: \", recall_score(df_test_Y, predictions, average='macro'))\n",
    "print(\"Precision: \", precision_score(df_test_Y, predictions, average='macro'))\n",
    "print(\"Confusion Matrix:\\n\", confusion_matrix(df_test_Y, predictions))"
   ]
  }
 ],
 "metadata": {
  "colab": {
   "collapsed_sections": [
    "sCMEqns8jY-1",
    "F5A997Ekjh0E",
    "KvWjb8GwOM-y",
    "rJJ4WHSBFTWc",
    "nqHSyA4SyJ7K",
    "xhkNe2ql-cFP",
    "fMwsPWxpi2cG",
    "-_nEjwFOjUDI",
    "MyekmTK3q5TC",
    "RkQzXPCXUxme",
    "P1zXPP6trxSN",
    "iGZ561te2ONO",
    "rffvHbuzGO8c"
   ],
   "name": "Capstone Project - Email Headers.ipynb",
   "provenance": []
  },
  "kernelspec": {
   "display_name": "Python 3",
   "language": "python",
   "name": "python3"
  },
  "language_info": {
   "codemirror_mode": {
    "name": "ipython",
    "version": 3
   },
   "file_extension": ".py",
   "mimetype": "text/x-python",
   "name": "python",
   "nbconvert_exporter": "python",
   "pygments_lexer": "ipython3",
   "version": "3.8.5"
  }
 },
 "nbformat": 4,
 "nbformat_minor": 1
}
